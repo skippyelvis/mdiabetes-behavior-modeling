{
 "cells": [
  {
   "cell_type": "code",
   "execution_count": 1,
   "id": "23791e19-fa29-4321-9a92-62c66249e206",
   "metadata": {
    "tags": []
   },
   "outputs": [],
   "source": [
    "from experiment import Experiment\n",
    "from utils.behavior_data import BehaviorData\n",
    "from visuals import Plotter\n",
    "import torch\n",
    "import numpy as np\n",
    "from utils.state_data import StateData\n"
   ]
  },
  {
   "cell_type": "code",
   "execution_count": 2,
   "id": "a6ccab30-3fb9-4990-8492-e7d81a539a5f",
   "metadata": {
    "tags": []
   },
   "outputs": [],
   "source": [
    "e = Experiment(\n",
    "    data_kw={\"minw\": 2,\n",
    "            \"maxw\": 25},\n",
    "    model=\"AdaptableLSTM\",\n",
    "    model_kw={\n",
    "        # \"lossfn\": \"MSELoss\",\n",
    "        # \"lossfn\": \"NDCG\",\n",
    "        \"lossfn\": \"CrossEntropyLoss\",\n",
    "        \"hidden_size\": 200, \n",
    "        \"opt_kw\": {\n",
    "            \"lr\": .2\n",
    "        }\n",
    "    },\n",
    "    train_kw={\n",
    "        \"epochs\": 30,\n",
    "        \"n_subj\": 500,\n",
    "        \"rec_every\": 2,\n",
    "    })\n",
    "\n",
    "report = e.run()"
   ]
  },
  {
   "cell_type": "code",
   "execution_count": 3,
   "id": "eec9034c-722f-488f-8ee2-9862de9c8296",
   "metadata": {
    "tags": []
   },
   "outputs": [
    {
     "name": "stdout",
     "output_type": "stream",
     "text": [
      "tensor([[0.9903, 0.0030, 0.0025,  ..., 0.0029, 0.0023, 0.0044],\n",
      "        [0.9918, 0.0024, 0.0021,  ..., 0.0024, 0.0019, 0.0038],\n",
      "        [0.9921, 0.0023, 0.0020,  ..., 0.0023, 0.0018, 0.0037],\n",
      "        ...,\n",
      "        [0.9941, 0.0016, 0.0016,  ..., 0.0015, 0.0012, 0.0025],\n",
      "        [0.9942, 0.0016, 0.0016,  ..., 0.0014, 0.0012, 0.0024],\n",
      "        [0.9941, 0.0016, 0.0016,  ..., 0.0015, 0.0012, 0.0025]]) tensor([[0., 0., 0.,  ..., 1., 0., 0.],\n",
      "        [0., 0., 0.,  ..., 0., 0., 0.],\n",
      "        [0., 0., 0.,  ..., 1., 0., 0.],\n",
      "        ...,\n",
      "        [0., 0., 0.,  ..., 0., 0., 1.],\n",
      "        [0., 0., 0.,  ..., 0., 0., 1.],\n",
      "        [0., 0., 1.,  ..., 0., 1., 0.]])\n",
      "MSE 0.18747872114181519\n",
      "CE 1.1246380805969238\n",
      "NDCG 0.8310976028442383\n",
      "MRR 0.7739560604095459\n",
      "MSE0 0.025876304134726524\n",
      "CE0 0.8017140626907349\n",
      "NDCG0 0.9770146608352661\n",
      "MRR0 0.9692267775535583\n",
      "MSE1 0.4427149295806885\n",
      "CE1 1.634667158126831\n",
      "NDCG1 0.6006349325180054\n",
      "MRR1 0.46554404497146606\n"
     ]
    }
   ],
   "source": [
    "metrics, labels = e.report_scores()\n",
    "for idx, l in enumerate(labels):\n",
    "    print(l, metrics[idx])"
   ]
  },
  {
   "cell_type": "code",
   "execution_count": 4,
   "id": "d7dc8b77-fd05-4d97-9145-abb37b7fe406",
   "metadata": {},
   "outputs": [
    {
     "data": {
      "image/png": "[encoded data removed]",
      "text/plain": [
       "<Figure size 432x288 with 1 Axes>"
      ]
     },
     "metadata": {},
     "output_type": "display_data"
    }
   ],
   "source": [
    "# Plotter.response_evaluations(report)\n",
    "Plotter.training_loss(report)"
   ]
  },
  {
   "cell_type": "code",
   "execution_count": 5,
   "id": "a9cb22e9-f0c4-44f2-87ca-bc3a161ad0b7",
   "metadata": {},
   "outputs": [
    {
     "data": {
      "text/plain": [
       "AdaptableLSTM(\n",
       "  (lstm): LSTM(36, 200)\n",
       "  (fc_q1): Linear(in_features=200, out_features=4, bias=True)\n",
       "  (fc_q2): Linear(in_features=200, out_features=4, bias=True)\n",
       "  (relu): ReLU()\n",
       ")"
      ]
     },
     "execution_count": 5,
     "metadata": {},
     "output_type": "execute_result"
    }
   ],
   "source": [
    "e.model"
   ]
  },
  {
   "cell_type": "code",
   "execution_count": 6,
   "id": "51ece53e-6e2a-49f0-9b38-f4ea17d88c6e",
   "metadata": {},
   "outputs": [
    {
     "data": {
      "text/plain": [
       "{'data_kw': {'minw': 2, 'maxw': 25},\n",
       " 'model_kw': {'lossfn': 'CrossEntropyLoss',\n",
       "  'hidden_size': 200,\n",
       "  'opt_kw': {'lr': 0.2}},\n",
       " 'train_kw': {'epochs': 30, 'n_subj': 500, 'rec_every': 2},\n",
       " 'params': {'data_kw': {'minw': 2, 'maxw': 25},\n",
       "  'model_name': 'AdaptableLSTM',\n",
       "  'model_kw': {'lossfn': 'CrossEntropyLoss',\n",
       "   'hidden_size': 200,\n",
       "   'opt_kw': {'lr': 0.2}},\n",
       "  'train_kw': {'epochs': 30, 'n_subj': 500, 'rec_every': 2}},\n",
       " 'results': [array([[0., 0., 0., ..., 0., 0., 2.],\n",
       "         [0., 0., 0., ..., 0., 0., 2.]])],\n",
       " 'loss': array([[2.79949141],\n",
       "        [2.24705458],\n",
       "        [2.21459961],\n",
       "        [2.2061851 ],\n",
       "        [2.2017746 ],\n",
       "        [2.19908571],\n",
       "        [2.19721603],\n",
       "        [2.19589257],\n",
       "        [2.19488525],\n",
       "        [2.19408178],\n",
       "        [2.19341898],\n",
       "        [2.19287443],\n",
       "        [2.19242668],\n",
       "        [2.19205022],\n",
       "        [2.19172192]])}"
      ]
     },
     "execution_count": 6,
     "metadata": {},
     "output_type": "execute_result"
    }
   ],
   "source": [
    "report"
   ]
  },
  {
   "cell_type": "code",
   "execution_count": null,
   "id": "fb07dfc3-ca80-43c7-963d-27fcfd2b2b5e",
   "metadata": {},
   "outputs": [],
   "source": []
  }
 ],
 "metadata": {
  "kernelspec": {
   "display_name": "Python 3",
   "language": "python",
   "name": "python3"
  },
  "language_info": {
   "codemirror_mode": {
    "name": "ipython",
    "version": 3
   },
   "file_extension": ".py",
   "mimetype": "text/x-python",
   "name": "python",
   "nbconvert_exporter": "python",
   "pygments_lexer": "ipython3",
   "version": "3.7.12"
  }
 },
 "nbformat": 4,
 "nbformat_minor": 5
}
