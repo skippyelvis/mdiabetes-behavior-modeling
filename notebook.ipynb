{
 "cells": [
  {
   "cell_type": "code",
   "execution_count": 1,
   "id": "28db17af-48e7-46c6-aff2-999789146e1b",
   "metadata": {},
   "outputs": [],
   "source": [
    "from experiment import Experiment\n",
    "import torch\n",
    "import numpy as np\n",
    "import matplotlib.pyplot as plt"
   ]
  },
  {
   "cell_type": "code",
   "execution_count": 2,
   "id": "bb999570-710d-472a-81a3-1fe62eb47ffc",
   "metadata": {},
   "outputs": [],
   "source": [
    "e = Experiment(\n",
    "    data_kw={\"load\": \"data/active_10p_week2-8.pt\"},\n",
    "    model_kw={\n",
    "        \"hidden_size\": 64, \n",
    "        \"opt_kw\": {\n",
    "            \"lr\": 1e-2\n",
    "        }\n",
    "    })"
   ]
  },
  {
   "cell_type": "code",
   "execution_count": 3,
   "id": "20861966-2221-423f-9717-0d981fe7574f",
   "metadata": {},
   "outputs": [],
   "source": [
    "lh = e.train(epochs=20, iters=1, n_subj=3, n_ser=1)"
   ]
  },
  {
   "cell_type": "code",
   "execution_count": 4,
   "id": "2109311e-5e03-4b5d-9499-183adc5e627f",
   "metadata": {},
   "outputs": [
    {
     "data": {
      "text/plain": [
       "[[0.20971894264221191], [0.256992906332016], [0.23937344551086426]]"
      ]
     },
     "execution_count": 4,
     "metadata": {},
     "output_type": "execute_result"
    }
   ],
   "source": [
    "lh[0]"
   ]
  },
  {
   "cell_type": "code",
   "execution_count": 5,
   "id": "4eac575b-25b6-4a46-8667-0540011da784",
   "metadata": {},
   "outputs": [
    {
     "data": {
      "text/plain": [
       "[[0.027078760787844658], [0.044921889901161194], [0.013080351985991001]]"
      ]
     },
     "execution_count": 5,
     "metadata": {},
     "output_type": "execute_result"
    }
   ],
   "source": [
    "lh[-1]"
   ]
  },
  {
   "cell_type": "code",
   "execution_count": null,
   "id": "ccdb6f65-b79a-4689-9bcb-b5bbc01fc730",
   "metadata": {},
   "outputs": [],
   "source": []
  }
 ],
 "metadata": {
  "kernelspec": {
   "display_name": "Python 3",
   "language": "python",
   "name": "python3"
  },
  "language_info": {
   "codemirror_mode": {
    "name": "ipython",
    "version": 3
   },
   "file_extension": ".py",
   "mimetype": "text/x-python",
   "name": "python",
   "nbconvert_exporter": "python",
   "pygments_lexer": "ipython3",
   "version": "3.7.12"
  }
 },
 "nbformat": 4,
 "nbformat_minor": 5
}
