{
 "cells": [
  {
   "cell_type": "code",
   "execution_count": 1,
   "id": "0b3488dc-1350-40b0-bc96-a645e4a1dbde",
   "metadata": {},
   "outputs": [],
   "source": [
    "from utils.behavior_data import BehaviorData\n",
    "\n",
    "def buildCurrentDataet(minw, maxw, file, **kw):\n",
    "    bd = BehaviorData(minw=minw, maxw=maxw, **kw)\n",
    "    bd.save(file)"
   ]
  },
  {
   "cell_type": "code",
   "execution_count": 4,
   "id": "52b35286-06e7-4149-8c09-a721bb08b2c8",
   "metadata": {},
   "outputs": [],
   "source": [
    "buildCurrentDataet(2, 10, \"data/active_10p-week2_10-nopid.pt\", include_pid=False)\n",
    "buildCurrentDataet(2, 10, \"data/active_10p-week2_10-pid.pt\", include_pid=True)"
   ]
  },
  {
   "cell_type": "code",
   "execution_count": 5,
   "id": "2e2821d8-58ce-4ea9-882d-5d0e15309074",
   "metadata": {},
   "outputs": [
    {
     "data": {
      "text/plain": [
       "((3, 35), (3, 36))"
      ]
     },
     "execution_count": 5,
     "metadata": {},
     "output_type": "execute_result"
    }
   ],
   "source": [
    "b1 = BehaviorData(load=\"data/active_10p-week2_10-nopid.pt\")\n",
    "b2 = BehaviorData(load=\"data/active_10p-week2_10-pid.pt\")\n",
    "\n",
    "for x, y in b1.train_iter():\n",
    "    break\n",
    "for x2, y2 in b2.train_iter():\n",
    "    break\n",
    "x.shape, x2.shape"
   ]
  }
 ],
 "metadata": {
  "kernelspec": {
   "display_name": "Python 3",
   "language": "python",
   "name": "python3"
  },
  "language_info": {
   "codemirror_mode": {
    "name": "ipython",
    "version": 3
   },
   "file_extension": ".py",
   "mimetype": "text/x-python",
   "name": "python",
   "nbconvert_exporter": "python",
   "pygments_lexer": "ipython3",
   "version": "3.7.12"
  }
 },
 "nbformat": 4,
 "nbformat_minor": 5
}
