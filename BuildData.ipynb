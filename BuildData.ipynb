{
 "cells": [
  {
   "cell_type": "code",
   "execution_count": 1,
   "id": "0b3488dc-1350-40b0-bc96-a645e4a1dbde",
   "metadata": {},
   "outputs": [],
   "source": [
    "from utils.behavior_data import BehaviorData\n",
    "\n",
    "def buildCurrentDataet(minw, maxw, file, **kw):\n",
    "    bd = BehaviorData(minw=minw, maxw=maxw, **kw)\n",
    "    bd.save(file)"
   ]
  },
  {
   "cell_type": "code",
   "execution_count": 2,
   "id": "52b35286-06e7-4149-8c09-a721bb08b2c8",
   "metadata": {},
   "outputs": [],
   "source": [
    "buildCurrentDataet(2, 10, \"data/active_10p-week2_10-nopid.pt\", include_pid=False)\n",
    "buildCurrentDataet(2, 10, \"data/active_10p-week2_10-pid.pt\", include_pid=True)"
   ]
  },
  {
   "cell_type": "code",
   "execution_count": 3,
   "id": "2e2821d8-58ce-4ea9-882d-5d0e15309074",
   "metadata": {},
   "outputs": [
    {
     "data": {
      "text/plain": [
       "((9, 35), (9, 36))"
      ]
     },
     "execution_count": 3,
     "metadata": {},
     "output_type": "execute_result"
    }
   ],
   "source": [
    "b1 = BehaviorData(load=\"data/active_10p-week2_10-nopid.pt\")\n",
    "b2 = BehaviorData(load=\"data/active_10p-week2_10-pid.pt\")\n",
    "\n",
    "for x, y in b1.iterate():\n",
    "    break\n",
    "for x2, y2 in b2.iterate():\n",
    "    break\n",
    "x.shape, x2.shape"
   ]
  },
  {
   "cell_type": "code",
   "execution_count": null,
   "id": "2d12b2d4-1915-4121-82f6-0e9f4e0f17fb",
   "metadata": {},
   "outputs": [],
   "source": []
  }
 ],
 "metadata": {
  "kernelspec": {
   "display_name": "Python 3",
   "language": "python",
   "name": "python3"
  },
  "language_info": {
   "codemirror_mode": {
    "name": "ipython",
    "version": 3
   },
   "file_extension": ".py",
   "mimetype": "text/x-python",
   "name": "python",
   "nbconvert_exporter": "python",
   "pygments_lexer": "ipython3",
   "version": "3.7.12"
  }
 },
 "nbformat": 4,
 "nbformat_minor": 5
}
