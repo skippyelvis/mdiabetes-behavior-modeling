{
 "cells": [
  {
   "cell_type": "code",
   "execution_count": 1,
   "id": "23791e19-fa29-4321-9a92-62c66249e206",
   "metadata": {
    "tags": []
   },
   "outputs": [
    {
     "name": "stdout",
     "output_type": "stream",
     "text": [
      "tensor([440.0000,   3.0000,   2.5000,   2.5000,   2.6667,   2.0000,   1.0000,\n",
      "          0.0000,   1.0000,   1.0000,   0.0000,   1.0000,   1.0000,   0.0000,\n",
      "          1.0000,   0.0000,   0.0000,   1.0000,   1.0000,   0.0000,   1.0000,\n",
      "          1.0000,   0.0000,   1.0000,   0.0000,   1.0000,   1.0000,   1.0000,\n",
      "          0.0000,   0.0000,   0.0000,   1.0000,   1.0000,   0.0000,   1.0000,\n",
      "          1.0000], dtype=torch.float64)\n",
      "tensor([439.,   2.,   3.,   3.,   1.,   3.,   1.,   0.,   1.,   0.,   1.,   1.,\n",
      "          0.,   0.,   0.,   0.,   1.,   0.,   0.,   0.,   0.,   1.,   1.,   0.,\n",
      "          0.,   1.,   1.,   0.,   1.,   1.,   0.,   0.,   1.,   1.,   0.,   0.],\n",
      "       dtype=torch.float64)\n",
      "tensor([0., 0., 0., 1., 0., 0., 0., 1.], dtype=torch.float64)\n"
     ]
    }
   ],
   "source": [
    "from experiment import Experiment\n",
    "from utils.behavior_data import BehaviorData\n",
    "from visuals import Plotter\n",
    "import torch\n",
    "import numpy as np\n",
    "from utils.state_data import StateData\n",
    "\n",
    "bd = BehaviorData(minw = 24, maxw = 25, sortBy = \"pid\")\n",
    "print(bd.features[bd.test[0]])\n",
    "print(bd.features[bd.train[-1]])"
   ]
  }
 ],
 "metadata": {
  "kernelspec": {
   "display_name": "Python 3",
   "language": "python",
   "name": "python3"
  },
  "language_info": {
   "codemirror_mode": {
    "name": "ipython",
    "version": 3
   },
   "file_extension": ".py",
   "mimetype": "text/x-python",
   "name": "python",
   "nbconvert_exporter": "python",
   "pygments_lexer": "ipython3",
   "version": "3.7.12"
  }
 },
 "nbformat": 4,
 "nbformat_minor": 5
}
